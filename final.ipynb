{
 "cells": [
  {
   "cell_type": "markdown",
   "metadata": {},
   "source": [
    "# Instructions\n",
    "\n",
    "This simulates retail sales for cigarettes, Juul and other e-cigarettes. We are interested in what conclusions you draw from this data about Juul's performance and market impact and how you visualize them. \n",
    "\n",
    "Feel free to use whatever means you prefer for your analysis and communication of it and its results. What you send back should be able to stand on its own, i.e., we should be able to understand it without requiring additional narration.\n",
    "\n",
    "Please only use RMA and ignore CRMA and SRMA geographies for this analysis."
   ]
  },
  {
   "cell_type": "code",
   "execution_count": 2,
   "metadata": {},
   "outputs": [],
   "source": [
    "import pandas as pd\n",
    "import numpy as np\n",
    "import os\n",
    "import sys\n",
    "import datetime\n",
    "# import dask.dataframe as dd"
   ]
  },
  {
   "cell_type": "code",
   "execution_count": 3,
   "metadata": {},
   "outputs": [
    {
     "data": {
      "text/html": [
       "<div>\n",
       "<style scoped>\n",
       "    .dataframe tbody tr th:only-of-type {\n",
       "        vertical-align: middle;\n",
       "    }\n",
       "\n",
       "    .dataframe tbody tr th {\n",
       "        vertical-align: top;\n",
       "    }\n",
       "\n",
       "    .dataframe thead th {\n",
       "        text-align: right;\n",
       "    }\n",
       "</style>\n",
       "<table border=\"1\" class=\"dataframe\">\n",
       "  <thead>\n",
       "    <tr style=\"text-align: right;\">\n",
       "      <th></th>\n",
       "      <th>SKU</th>\n",
       "      <th>sku_id</th>\n",
       "      <th>unit_sales</th>\n",
       "      <th>sku_legend</th>\n",
       "      <th>sku_legend_text</th>\n",
       "      <th>sku_tf_idf</th>\n",
       "    </tr>\n",
       "  </thead>\n",
       "  <tbody>\n",
       "    <tr>\n",
       "      <th>0</th>\n",
       "      <td>JUUL Total</td>\n",
       "      <td>0</td>\n",
       "      <td>–</td>\n",
       "      <td>JUUL-ELECTRONIC SMOKING DEVICES</td>\n",
       "      <td>juulelectronic smoking devices</td>\n",
       "      <td>devices smoking juulelectronic</td>\n",
       "    </tr>\n",
       "    <tr>\n",
       "      <th>1</th>\n",
       "      <td>Cigarettes Total</td>\n",
       "      <td>1</td>\n",
       "      <td>75,083,502,411</td>\n",
       "      <td>CIGARETTES</td>\n",
       "      <td>cigarettes</td>\n",
       "      <td>cigarettes</td>\n",
       "    </tr>\n",
       "    <tr>\n",
       "      <th>2</th>\n",
       "      <td>E-Cigs Total</td>\n",
       "      <td>2</td>\n",
       "      <td>939,305,632</td>\n",
       "      <td>ELECTRONIC SMOKING DEVICES</td>\n",
       "      <td>electronic smoking devices</td>\n",
       "      <td>electronic devices smoking</td>\n",
       "    </tr>\n",
       "    <tr>\n",
       "      <th>3</th>\n",
       "      <td>JUUL Refill Kits</td>\n",
       "      <td>3</td>\n",
       "      <td>27,211,643</td>\n",
       "      <td>JUUL ELCTRNC SMKNG ACSRY MIINT DISPOSABLE 4 CT...</td>\n",
       "      <td>juul elctrnc smkng acsry miint disposable  ct</td>\n",
       "      <td>elctrnc disposable miint</td>\n",
       "    </tr>\n",
       "    <tr>\n",
       "      <th>4</th>\n",
       "      <td>JUUL Refill Kits</td>\n",
       "      <td>4</td>\n",
       "      <td>7,979,019</td>\n",
       "      <td>JUUL ELCTRNC SMKNG ACSRY BRUULE DISPOSABLE 4 C...</td>\n",
       "      <td>juul elctrnc smkng acsry bruule disposable  ct</td>\n",
       "      <td>elctrnc disposable bruule</td>\n",
       "    </tr>\n",
       "  </tbody>\n",
       "</table>\n",
       "</div>"
      ],
      "text/plain": [
       "                SKU  sku_id      unit_sales  \\\n",
       "0        JUUL Total       0               –   \n",
       "1  Cigarettes Total       1  75,083,502,411   \n",
       "2      E-Cigs Total       2     939,305,632   \n",
       "3  JUUL Refill Kits       3      27,211,643   \n",
       "4  JUUL Refill Kits       4       7,979,019   \n",
       "\n",
       "                                          sku_legend  \\\n",
       "0                    JUUL-ELECTRONIC SMOKING DEVICES   \n",
       "1                                         CIGARETTES   \n",
       "2                         ELECTRONIC SMOKING DEVICES   \n",
       "3  JUUL ELCTRNC SMKNG ACSRY MIINT DISPOSABLE 4 CT...   \n",
       "4  JUUL ELCTRNC SMKNG ACSRY BRUULE DISPOSABLE 4 C...   \n",
       "\n",
       "                                    sku_legend_text  \\\n",
       "0                    juulelectronic smoking devices   \n",
       "1                                        cigarettes   \n",
       "2                        electronic smoking devices   \n",
       "3   juul elctrnc smkng acsry miint disposable  ct     \n",
       "4  juul elctrnc smkng acsry bruule disposable  ct     \n",
       "\n",
       "                       sku_tf_idf  \n",
       "0  devices smoking juulelectronic  \n",
       "1                      cigarettes  \n",
       "2      electronic devices smoking  \n",
       "3        elctrnc disposable miint  \n",
       "4       elctrnc disposable bruule  "
      ]
     },
     "execution_count": 3,
     "metadata": {},
     "output_type": "execute_result"
    }
   ],
   "source": [
    "sku = pd.read_csv('sku_new.csv'); sku.head()"
   ]
  },
  {
   "cell_type": "code",
   "execution_count": 4,
   "metadata": {},
   "outputs": [
    {
     "data": {
      "text/html": [
       "<div>\n",
       "<style scoped>\n",
       "    .dataframe tbody tr th:only-of-type {\n",
       "        vertical-align: middle;\n",
       "    }\n",
       "\n",
       "    .dataframe tbody tr th {\n",
       "        vertical-align: top;\n",
       "    }\n",
       "\n",
       "    .dataframe thead th {\n",
       "        text-align: right;\n",
       "    }\n",
       "</style>\n",
       "<table border=\"1\" class=\"dataframe\">\n",
       "  <thead>\n",
       "    <tr style=\"text-align: right;\">\n",
       "      <th></th>\n",
       "      <th>Geography</th>\n",
       "      <th>Product</th>\n",
       "      <th>Time</th>\n",
       "      <th>Dollar Sales</th>\n",
       "      <th>Unit Sales</th>\n",
       "      <th>SKU</th>\n",
       "      <th>end_time</th>\n",
       "      <th>start_time</th>\n",
       "    </tr>\n",
       "  </thead>\n",
       "  <tbody>\n",
       "    <tr>\n",
       "      <th>0</th>\n",
       "      <td>Circle K Florida-RMA - Conv</td>\n",
       "      <td>CIGARETTES</td>\n",
       "      <td>4 Weeks Ending 01-31-16</td>\n",
       "      <td>28921840.49</td>\n",
       "      <td>4968512.070</td>\n",
       "      <td>Cigarettes Total</td>\n",
       "      <td>2016-01-31</td>\n",
       "      <td>2016-01-03</td>\n",
       "    </tr>\n",
       "    <tr>\n",
       "      <th>1</th>\n",
       "      <td>Circle K Florida-RMA - Conv</td>\n",
       "      <td>CIGARETTES</td>\n",
       "      <td>4 Weeks Ending 02-28-16</td>\n",
       "      <td>30276220.80</td>\n",
       "      <td>5139634.753</td>\n",
       "      <td>Cigarettes Total</td>\n",
       "      <td>2016-02-28</td>\n",
       "      <td>2016-01-31</td>\n",
       "    </tr>\n",
       "    <tr>\n",
       "      <th>2</th>\n",
       "      <td>Circle K Florida-RMA - Conv</td>\n",
       "      <td>CIGARETTES</td>\n",
       "      <td>4 Weeks Ending 03-27-16</td>\n",
       "      <td>31535167.82</td>\n",
       "      <td>5366848.000</td>\n",
       "      <td>Cigarettes Total</td>\n",
       "      <td>2016-03-27</td>\n",
       "      <td>2016-02-28</td>\n",
       "    </tr>\n",
       "    <tr>\n",
       "      <th>3</th>\n",
       "      <td>Circle K Florida-RMA - Conv</td>\n",
       "      <td>CIGARETTES</td>\n",
       "      <td>4 Weeks Ending 04-24-16</td>\n",
       "      <td>31693487.95</td>\n",
       "      <td>5420033.091</td>\n",
       "      <td>Cigarettes Total</td>\n",
       "      <td>2016-04-24</td>\n",
       "      <td>2016-03-27</td>\n",
       "    </tr>\n",
       "    <tr>\n",
       "      <th>4</th>\n",
       "      <td>Circle K Florida-RMA - Conv</td>\n",
       "      <td>CIGARETTES</td>\n",
       "      <td>4 Weeks Ending 05-22-16</td>\n",
       "      <td>31390945.73</td>\n",
       "      <td>5380230.139</td>\n",
       "      <td>Cigarettes Total</td>\n",
       "      <td>2016-05-22</td>\n",
       "      <td>2016-04-24</td>\n",
       "    </tr>\n",
       "  </tbody>\n",
       "</table>\n",
       "</div>"
      ],
      "text/plain": [
       "                     Geography     Product                     Time  \\\n",
       "0  Circle K Florida-RMA - Conv  CIGARETTES  4 Weeks Ending 01-31-16   \n",
       "1  Circle K Florida-RMA - Conv  CIGARETTES  4 Weeks Ending 02-28-16   \n",
       "2  Circle K Florida-RMA - Conv  CIGARETTES  4 Weeks Ending 03-27-16   \n",
       "3  Circle K Florida-RMA - Conv  CIGARETTES  4 Weeks Ending 04-24-16   \n",
       "4  Circle K Florida-RMA - Conv  CIGARETTES  4 Weeks Ending 05-22-16   \n",
       "\n",
       "   Dollar Sales   Unit Sales               SKU    end_time  start_time  \n",
       "0   28921840.49  4968512.070  Cigarettes Total  2016-01-31  2016-01-03  \n",
       "1   30276220.80  5139634.753  Cigarettes Total  2016-02-28  2016-01-31  \n",
       "2   31535167.82  5366848.000  Cigarettes Total  2016-03-27  2016-02-28  \n",
       "3   31693487.95  5420033.091  Cigarettes Total  2016-04-24  2016-03-27  \n",
       "4   31390945.73  5380230.139  Cigarettes Total  2016-05-22  2016-04-24  "
      ]
     },
     "execution_count": 4,
     "metadata": {},
     "output_type": "execute_result"
    }
   ],
   "source": [
    "sales = pd.read_csv('sales_new.csv'); sales.head()"
   ]
  },
  {
   "cell_type": "markdown",
   "metadata": {},
   "source": [
    "## Aggregating Sales Nation Wide\n",
    "We'll aggretate sales across all RMA's for each product by end_time of sale"
   ]
  },
  {
   "cell_type": "code",
   "execution_count": 5,
   "metadata": {},
   "outputs": [
    {
     "data": {
      "text/plain": [
       "array(['Cigarettes Total', 'E-Cigs Total', 'JUUL Refill Kits',\n",
       "       'JUUL Devices'], dtype=object)"
      ]
     },
     "execution_count": 5,
     "metadata": {},
     "output_type": "execute_result"
    }
   ],
   "source": [
    "sales.SKU.unique()"
   ]
  },
  {
   "cell_type": "code",
   "execution_count": 6,
   "metadata": {},
   "outputs": [
    {
     "data": {
      "text/html": [
       "<div>\n",
       "<style scoped>\n",
       "    .dataframe tbody tr th:only-of-type {\n",
       "        vertical-align: middle;\n",
       "    }\n",
       "\n",
       "    .dataframe tbody tr th {\n",
       "        vertical-align: top;\n",
       "    }\n",
       "\n",
       "    .dataframe thead th {\n",
       "        text-align: right;\n",
       "    }\n",
       "</style>\n",
       "<table border=\"1\" class=\"dataframe\">\n",
       "  <thead>\n",
       "    <tr style=\"text-align: right;\">\n",
       "      <th></th>\n",
       "      <th>sku</th>\n",
       "      <th>end_time</th>\n",
       "      <th>dollar_sales</th>\n",
       "      <th>unit_sales</th>\n",
       "    </tr>\n",
       "  </thead>\n",
       "  <tbody>\n",
       "    <tr>\n",
       "      <th>0</th>\n",
       "      <td>Cigarettes Total</td>\n",
       "      <td>2016-01-31</td>\n",
       "      <td>8.700012e+08</td>\n",
       "      <td>1.326638e+08</td>\n",
       "    </tr>\n",
       "    <tr>\n",
       "      <th>1</th>\n",
       "      <td>Cigarettes Total</td>\n",
       "      <td>2016-02-28</td>\n",
       "      <td>9.031296e+08</td>\n",
       "      <td>1.368401e+08</td>\n",
       "    </tr>\n",
       "    <tr>\n",
       "      <th>2</th>\n",
       "      <td>Cigarettes Total</td>\n",
       "      <td>2016-03-27</td>\n",
       "      <td>9.260665e+08</td>\n",
       "      <td>1.407221e+08</td>\n",
       "    </tr>\n",
       "    <tr>\n",
       "      <th>3</th>\n",
       "      <td>Cigarettes Total</td>\n",
       "      <td>2016-04-24</td>\n",
       "      <td>9.392742e+08</td>\n",
       "      <td>1.431413e+08</td>\n",
       "    </tr>\n",
       "    <tr>\n",
       "      <th>4</th>\n",
       "      <td>Cigarettes Total</td>\n",
       "      <td>2016-05-22</td>\n",
       "      <td>9.558178e+08</td>\n",
       "      <td>1.463879e+08</td>\n",
       "    </tr>\n",
       "  </tbody>\n",
       "</table>\n",
       "</div>"
      ],
      "text/plain": [
       "                sku    end_time  dollar_sales    unit_sales\n",
       "0  Cigarettes Total  2016-01-31  8.700012e+08  1.326638e+08\n",
       "1  Cigarettes Total  2016-02-28  9.031296e+08  1.368401e+08\n",
       "2  Cigarettes Total  2016-03-27  9.260665e+08  1.407221e+08\n",
       "3  Cigarettes Total  2016-04-24  9.392742e+08  1.431413e+08\n",
       "4  Cigarettes Total  2016-05-22  9.558178e+08  1.463879e+08"
      ]
     },
     "execution_count": 6,
     "metadata": {},
     "output_type": "execute_result"
    }
   ],
   "source": [
    "national_sales = sales.drop(['Geography', 'Product','Time','start_time'],axis = 1)\\\n",
    "    .groupby(by = ['SKU', 'end_time'])\\\n",
    "    .agg(np.sum)\\\n",
    "    .reset_index()\n",
    "national_sales.columns = ['sku', 'end_time', 'dollar_sales', 'unit_sales']\n",
    "national_sales.head()"
   ]
  },
  {
   "cell_type": "markdown",
   "metadata": {},
   "source": [
    "## Forecasting Juul's Growth\n",
    "\n",
    "How long would it take for Juul to achieve a 10% market share (in $) of all tobacco products being sold across the United States? \n",
    "\n",
    "For this we'll assume there are no sales outside RMA Geo regions (RMA regions encompass all nation wide sales)"
   ]
  },
  {
   "cell_type": "code",
   "execution_count": 276,
   "metadata": {},
   "outputs": [
    {
     "name": "stdout",
     "output_type": "stream",
     "text": [
      "end_time\n",
      "2016-01-31    0.055513\n",
      "2016-02-28    0.062819\n",
      "2016-03-27    0.072577\n",
      "2016-04-24    0.085328\n",
      "2016-05-22    0.093281\n",
      "2016-06-19    0.094297\n",
      "2016-07-17    0.100432\n",
      "2016-08-14    0.124225\n",
      "2016-09-11    0.160103\n",
      "2016-10-09    0.204196\n",
      "2016-11-06    0.221927\n",
      "2016-12-04    0.237462\n",
      "2017-01-01    0.331324\n",
      "2017-01-29    0.448120\n",
      "2017-02-26    0.516734\n",
      "2017-03-26    0.566018\n",
      "2017-04-23    0.601849\n",
      "2017-05-21    0.655228\n",
      "2017-06-18    0.720222\n",
      "2017-07-16    0.867948\n",
      "2017-08-13    0.902322\n",
      "2017-09-10    0.879865\n",
      "2017-10-08    0.967622\n",
      "2017-11-05    1.227410\n",
      "2017-12-03    1.586709\n",
      "2017-12-31    2.027225\n",
      "2018-01-28    2.428421\n",
      "Name: juul_market_share, dtype: float64\n",
      "(27,)\n"
     ]
    }
   ],
   "source": [
    "var = 'dollar_sales'\n",
    "\n",
    "def get_market_share(var):\n",
    "    \n",
    "    juul_share = national_sales[national_sales.sku.apply(lambda x: \n",
    "                                        x in ['JUUL Devices', 'JUUL Refill Kits'])]\\\n",
    "        .loc[:, ['end_time', var]].groupby('end_time').agg(np.sum).reset_index()\n",
    "    \n",
    "    other_share = national_sales[national_sales.sku.apply(lambda x: \n",
    "                                        x not in ['JUUL Devices', 'JUUL Refill Kits'])]\\\n",
    "        .loc[:, ['end_time', var]].groupby('end_time').agg(np.sum).reset_index()\n",
    "    \n",
    "    share_df = pd.merge(juul_share, \n",
    "                        other_share,\n",
    "                        on = 'end_time', \n",
    "                        suffixes = (\"_juul\", \"_other\"))\n",
    "    \n",
    "    share_df['juul_market_share'] = (share_df[var + '_juul']/(share_df[var + '_juul'] + share_df[var + '_other'])) * 100\n",
    "    share_df['end_time'] = share_df.end_time.apply(lambda x: datetime.datetime.strptime(x, '%Y-%m-%d'))\n",
    "    return share_df.loc[:,['end_time', 'juul_market_share']]\n",
    "\n",
    "market_share = get_market_share('dollar_sales')\n",
    "market_share = market_share.set_index(keys = 'end_time')\n",
    "market_share = pd.Series(market_share.juul_market_share)\n",
    "\n",
    "print(market_share); print(market_share.shape)"
   ]
  },
  {
   "cell_type": "code",
   "execution_count": 8,
   "metadata": {},
   "outputs": [
    {
     "data": {
      "text/plain": [
       "<matplotlib.figure.Figure at 0x10b969f60>"
      ]
     },
     "metadata": {},
     "output_type": "display_data"
    }
   ],
   "source": [
    "import matplotlib.pyplot as plt\n",
    "import matplotlib.dates as mdates\n",
    "market_share.plot(style = \".\")\n",
    "plt.show()"
   ]
  },
  {
   "cell_type": "markdown",
   "metadata": {},
   "source": [
    "A quick check of the scatter plot of Juul's dollar market share % over time tells us that a linear model wont be good fit for forecasting Juul's growth. For this we'll try to fit an time series forecast. \n",
    "\n",
    "Juul's marekt share % seems to be trending upwards. A quick check of the rolling mean that our data is trending upwards. The upward trending standard deviation also confirm that the difference between the market share at Tn and Tn+1 is also increasing. \n",
    "\n",
    "We can conduct a dickey-fuller test on our time series data with the null hypothesis that our data has a trend. A high p value confirms this. "
   ]
  },
  {
   "cell_type": "code",
   "execution_count": 9,
   "metadata": {},
   "outputs": [
    {
     "data": {
      "image/png": "[encoded data removed]",
      "text/plain": [
       "<matplotlib.figure.Figure at 0x1c1b80a470>"
      ]
     },
     "metadata": {},
     "output_type": "display_data"
    },
    {
     "name": "stdout",
     "output_type": "stream",
     "text": [
      "Test Statistic                  3.692245\n",
      "p-value                         1.000000\n",
      "#Lags Used                      9.000000\n",
      "Number of Observations Used    17.000000\n",
      "dtype: float64\n"
     ]
    }
   ],
   "source": [
    "from statsmodels.tsa.stattools import adfuller\n",
    "\n",
    "def plot_rolling(ts, p):\n",
    "    \n",
    "    rm = ts.rolling(window = p, center = False).mean()\n",
    "    rs = ts.rolling(window = p, center = False).std()\n",
    "    \n",
    "    fig, ax = plt.subplots()\n",
    "    \n",
    "    orig = ax.plot(ts, \".\", color = \"blue\", label = \"original\")\n",
    "    mean = ax.plot(rm, \":\", color = \"red\", label = \"rolling mean\")\n",
    "    std = ax.plot(rs, \":\", color = \"black\", label = \"rolling std\")\n",
    "    \n",
    "    fig.autofmt_xdate()\n",
    "    ax.fmt_xdata = mdates.DateFormatter('%Y-%m-%d')\n",
    "    \n",
    "    plt.legend(loc = \"best\")\n",
    "    plt.title(\"Rolling Mean and Std\")\n",
    "    plt.show(block=False)\n",
    "\n",
    "def df_test(ts):\n",
    "        print(pd.Series(adfuller(np.array(ts))[0:4], \n",
    "                index=['Test Statistic','p-value','#Lags Used','Number of Observations Used']))\n",
    "        \n",
    "plot_rolling(market_share, 6); df_test(market_share)        "
   ]
  },
  {
   "cell_type": "markdown",
   "metadata": {},
   "source": [
    "We can modify the original market share time series with a log transformation to reduce the effect of the increasing market share %. There is still and upward trend but the rolling standard deviation appears to be stationary. "
   ]
  },
  {
   "cell_type": "code",
   "execution_count": 10,
   "metadata": {
    "scrolled": true
   },
   "outputs": [
    {
     "data": {
      "image/png": "[encoded data removed]",
      "text/plain": [
       "<matplotlib.figure.Figure at 0x1c1b7a1e10>"
      ]
     },
     "metadata": {},
     "output_type": "display_data"
    },
    {
     "name": "stdout",
     "output_type": "stream",
     "text": [
      "Test Statistic                  0.773141\n",
      "p-value                         0.991190\n",
      "#Lags Used                      9.000000\n",
      "Number of Observations Used    17.000000\n",
      "dtype: float64\n"
     ]
    }
   ],
   "source": [
    "market_share_log = np.log(market_share)\n",
    "plot_rolling(market_share_log, 6); df_test(market_share_log)"
   ]
  },
  {
   "cell_type": "markdown",
   "metadata": {},
   "source": [
    "## Extracting Seasonal Components"
   ]
  },
  {
   "cell_type": "code",
   "execution_count": 20,
   "metadata": {},
   "outputs": [
    {
     "data": {
      "image/png": "[encoded data removed]",
      "text/plain": [
       "<matplotlib.figure.Figure at 0x1c1197f400>"
      ]
     },
     "metadata": {},
     "output_type": "display_data"
    }
   ],
   "source": [
    "from statsmodels.tsa.seasonal import seasonal_decompose\n",
    "\n",
    "result = seasonal_decompose(market_share_log, model = 'additive', filt = None, freq = 12)\n",
    "fig = result.plot()"
   ]
  },
  {
   "cell_type": "markdown",
   "metadata": {},
   "source": [
    "We can create a stationary process by differencing the log transformation of Juul's market share. At a p-value low of .001 for the d-f test, we're certain we have a stationary process. "
   ]
  },
  {
   "cell_type": "code",
   "execution_count": 23,
   "metadata": {
    "scrolled": true
   },
   "outputs": [
    {
     "data": {
      "image/png": "[encoded data removed]",
      "text/plain": [
       "<matplotlib.figure.Figure at 0x1c1da69780>"
      ]
     },
     "metadata": {},
     "output_type": "display_data"
    },
    {
     "name": "stdout",
     "output_type": "stream",
     "text": [
      "Test Statistic                 -3.966092\n",
      "p-value                         0.001599\n",
      "#Lags Used                      9.000000\n",
      "Number of Observations Used    16.000000\n",
      "dtype: float64\n"
     ]
    }
   ],
   "source": [
    "log_diff = market_share_log.diff(1).dropna()\n",
    "plot_rolling(log_diff, 6); df_test(log_diff)"
   ]
  },
  {
   "cell_type": "markdown",
   "metadata": {},
   "source": [
    "It's clear from the `seasonal_decompose` function that there is at least some seasonality - so we'll use a seasonal arima model. Next, we plot the auto-correlation and partial auto-correlation function to determine our auto-regressive and moving average components. \n",
    "\n",
    "* Auto Regression: today(t) = mean + phi * yesterday(t-1) + phi * yesterday(t-2) + ... + noise\n",
    "* Moving Average: today(t) = mean + noise + theta * noise(t-1) + theta * noise(t-2) + . . .\n",
    "\n",
    "The ACF has significant lag coefficients on the 95% level only at 1. The PACF has significant coefficients at lag 2. Both the ACF and PACF tail off. This suggests some combination of both an AR and MA model. This suggests that the best AR and MA components could be either 1 or 2. "
   ]
  },
  {
   "cell_type": "code",
   "execution_count": 24,
   "metadata": {},
   "outputs": [
    {
     "data": {
      "image/png": "[encoded data removed]",
      "text/plain": [
       "<matplotlib.figure.Figure at 0x1c1d8ef9b0>"
      ]
     },
     "metadata": {},
     "output_type": "display_data"
    },
    {
     "data": {
      "image/png": "[encoded data removed]",
      "text/plain": [
       "<matplotlib.figure.Figure at 0x1c1d8ef518>"
      ]
     },
     "metadata": {},
     "output_type": "display_data"
    }
   ],
   "source": [
    "from statsmodels.graphics.tsaplots import plot_acf, plot_pacf\n",
    "plot_acf(log_diff, alpha = .05, lags = 20)\n",
    "plot_pacf(log_diff, alpha = .05, lags = 20)\n",
    "plt.show()"
   ]
  },
  {
   "cell_type": "markdown",
   "metadata": {},
   "source": [
    "The seasonal difference appears to be yearly - peaking in January. Since our data is monthly we'll take the 12th order difference from the log transformation. \n",
    "\n",
    "Since the autocorrelation doesn't show any significant coefficients at lag 12 in the seasonal ACF and PACF function, we won't assign any AR or MA components to the seaosnal part our model."
   ]
  },
  {
   "cell_type": "code",
   "execution_count": 51,
   "metadata": {},
   "outputs": [
    {
     "data": {
      "image/png": "[encoded data removed]",
      "text/plain": [
       "<matplotlib.figure.Figure at 0x1c1ec666a0>"
      ]
     },
     "metadata": {},
     "output_type": "display_data"
    },
    {
     "data": {
      "image/png": "[encoded data removed]",
      "text/plain": [
       "<matplotlib.figure.Figure at 0x1c1ec5f4e0>"
      ]
     },
     "metadata": {},
     "output_type": "display_data"
    }
   ],
   "source": [
    "log_diff_seasonal = (log_diff - log_diff.shift(12)).dropna()\n",
    "plot_acf(log_diff_seasonal, alpha = .05, lags = 12)\n",
    "plot_pacf(log_diff_seasonal, alpha = .05, lags = 12)\n",
    "plt.show()"
   ]
  },
  {
   "cell_type": "markdown",
   "metadata": {},
   "source": [
    "## Fitting the Model\n",
    "\n",
    "We'll try with AR = 1 (p), MA = 1 (q) , first order differnce (d), and our 12 period seasonal difference."
   ]
  },
  {
   "cell_type": "code",
   "execution_count": 165,
   "metadata": {},
   "outputs": [],
   "source": [
    "from statsmodels.tsa.statespace.sarimax import SARIMAX\n",
    "\n",
    "pdq = [(1,1,1), (2,1,1), (1,1,2), (2,1,2)]\n",
    "\n",
    "def model_sarima(pdq_arg):\n",
    "    model = SARIMAX(market_share_log\n",
    "                , trend='ct'\n",
    "                , order = pdq_arg\n",
    "                , seasonal_order = (0,0,0,12)\n",
    "                , enforce_stationarity = False)\n",
    "    results = model.fit(maxiter=200, method = 'powell')\n",
    "    return results.summary()\n",
    "\n",
    "def get_results(model_results):\n",
    "    df = model_results.tables[0].data; df = pd.DataFrame(df)\n",
    "    model_name = df.loc[1, 1]; aic = df.loc[2, 3]; bic = df.loc[3,3]\n",
    "    df = model_results.tables[2].data; df = pd.DataFrame(df); ljung_box_p = df.loc[1,1]\n",
    "    df = {model_name: {'aic' : aic\n",
    "                       , 'bic' : bic\n",
    "                       , 'ljung_p': ljung_box_p}}\n",
    "    return df"
   ]
  },
  {
   "cell_type": "markdown",
   "metadata": {},
   "source": [
    "#### We use the AIC and BIC measures to compare our ARIMA models (the lower the AIC/BIC the better). Under this criteria our best performing model are the (1,1,2) and (2,1,2) models. \n",
    "\n",
    "We can then compare Ljung-Box Stats and P values to evaluate model fit. A Ljung-Box test is essentially a chi-squared test with:\n",
    "* *Null hypothesis - autocorrelation coefficients for chosen lags are 0 (ie model fits well)*\n",
    "* *Alternative hypothesis - autocorrelation coefficients for chosen lags are not 0 (ie model does not fit well)*\n",
    "\n",
    "The (1,1,2) model and the (2,1,2) models each have .49 and .88 respectively as their Ljung p-value - meaining we're more certain the (2,1,2) model is a better fit for our data. We'll chose this as our final model."
   ]
  },
  {
   "cell_type": "code",
   "execution_count": 167,
   "metadata": {},
   "outputs": [
    {
     "name": "stdout",
     "output_type": "stream",
     "text": [
      "Optimization terminated successfully.\n",
      "         Current function value: -1.068911\n",
      "         Iterations: 3\n",
      "         Function evaluations: 183\n",
      "{'SARIMAX(1, 1, 1)': {'aic': '-47.721', 'bic': '-41.242', 'ljung_p': '0.53'}}\n",
      "Optimization terminated successfully.\n",
      "         Current function value: -1.121736\n",
      "         Iterations: 7\n",
      "         Function evaluations: 497\n",
      "{'SARIMAX(2, 1, 1)': {'aic': '-48.574', 'bic': '-40.799', 'ljung_p': '0.93'}}\n",
      "Optimization terminated successfully.\n",
      "         Current function value: -1.009227\n",
      "         Iterations: 11\n",
      "         Function evaluations: 835\n",
      "{'SARIMAX(1, 1, 2)': {'aic': '-42.498', 'bic': '-34.723', 'ljung_p': '0.49'}}\n",
      "Optimization terminated successfully.\n",
      "         Current function value: -1.061235\n",
      "         Iterations: 7\n",
      "         Function evaluations: 571\n",
      "{'SARIMAX(2, 1, 2)': {'aic': '-43.307', 'bic': '-34.236', 'ljung_p': '0.88'}}\n"
     ]
    }
   ],
   "source": [
    "for args in pdq:\n",
    "    print(get_results(model_sarima(args)))"
   ]
  },
  {
   "cell_type": "markdown",
   "metadata": {},
   "source": [
    "## Model Forecasting"
   ]
  },
  {
   "cell_type": "code",
   "execution_count": 232,
   "metadata": {},
   "outputs": [
    {
     "name": "stdout",
     "output_type": "stream",
     "text": [
      "Optimization terminated successfully.\n",
      "         Current function value: -1.061235\n",
      "         Iterations: 7\n",
      "         Function evaluations: 571\n"
     ]
    }
   ],
   "source": [
    "final_model = SARIMAX(market_share_log\n",
    "                , trend='ct'\n",
    "                , order = (2,1,2)\n",
    "                , seasonal_order = (0,0,0,12)\n",
    "                , enforce_stationarity = False)\n",
    "model_fit = final_model.fit(maxiter=200, method = 'powell')\n",
    "\n",
    "forecasts = model_fit.forecasts[0]\n",
    "actuals = model_fit.data.orig_endog\n",
    "df = pd.DataFrame.from_dict({'forecast': forecasts,\n",
    "                        'actual': actuals}).iloc[1:,:]"
   ]
  },
  {
   "cell_type": "code",
   "execution_count": 252,
   "metadata": {},
   "outputs": [
    {
     "data": {
      "text/html": [
       "<script>requirejs.config({paths: { 'plotly': ['https://cdn.plot.ly/plotly-latest.min']},});if(!window.Plotly) {{require(['plotly'],function(plotly) {window.Plotly=plotly;});}}</script>"
      ],
      "text/vnd.plotly.v1+html": [
       "<script>requirejs.config({paths: { 'plotly': ['https://cdn.plot.ly/plotly-latest.min']},});if(!window.Plotly) {{require(['plotly'],function(plotly) {window.Plotly=plotly;});}}</script>"
      ]
     },
     "metadata": {},
     "output_type": "display_data"
    },
    {
     "data": {
      "text/html": [
       "<iframe id=\"igraph\" scrolling=\"no\" style=\"border:none;\" seamless=\"seamless\" src=\"https://plot.ly/~lechnernn/20.embed\" height=\"525px\" width=\"100%\"></iframe>"
      ],
      "text/plain": [
       "<plotly.tools.PlotlyDisplay object>"
      ]
     },
     "execution_count": 252,
     "metadata": {},
     "output_type": "execute_result"
    }
   ],
   "source": [
    "import plotly.plotly as py\n",
    "import plotly.graph_objs as go\n",
    "init_notebook_mode(connected=True)\n",
    "\n",
    "forecast = go.Scatter(\n",
    "    x = df.index,\n",
    "    y = df.forecast,\n",
    "    name = \"forcecast\"\n",
    ")\n",
    "actual = go.Scatter(\n",
    "    x = df.index,\n",
    "    y = df.actual,\n",
    "    name = \"actual\"\n",
    ")\n",
    "\n",
    "data = [forecast, actual]\n",
    "\n",
    "layout = dict(title = 'Fitted ARIMA model (2,1,2)',\n",
    "              xaxis = dict(title = 'Time'),\n",
    "              yaxis = dict(title = 'Log of Market Share %')\n",
    "              )\n",
    "fig = dict(data = data, layout = layout)\n",
    "py.iplot(fig)"
   ]
  },
  {
   "cell_type": "markdown",
   "metadata": {},
   "source": [
    "Our model looks pretty good. Lets add in a 2 year forecast"
   ]
  },
  {
   "cell_type": "code",
   "execution_count": 254,
   "metadata": {},
   "outputs": [],
   "source": [
    "two_year_forecast = pd.DataFrame(model_fit.forecast(steps = 24))"
   ]
  },
  {
   "cell_type": "code",
   "execution_count": 258,
   "metadata": {},
   "outputs": [
    {
     "data": {
      "text/html": [
       "<iframe id=\"igraph\" scrolling=\"no\" style=\"border:none;\" seamless=\"seamless\" src=\"https://plot.ly/~lechnernn/22.embed\" height=\"525px\" width=\"100%\"></iframe>"
      ],
      "text/plain": [
       "<plotly.tools.PlotlyDisplay object>"
      ]
     },
     "execution_count": 258,
     "metadata": {},
     "output_type": "execute_result"
    }
   ],
   "source": [
    "future_forecast = go.Scatter(x = two_year_forecast.index,\n",
    "                            y = np.array(two_year_forecast.iloc[:,0]),\n",
    "                            name = \"future\")\n",
    "\n",
    "data = [forecast, actual, future_forecast]\n",
    "fig = dict(data = data, layout = layout)\n",
    "py.iplot(fig)"
   ]
  },
  {
   "cell_type": "markdown",
   "metadata": {},
   "source": [
    "We can raise e to the power of the log market share to get back to the original market share %."
   ]
  },
  {
   "cell_type": "code",
   "execution_count": 275,
   "metadata": {
    "scrolled": true
   },
   "outputs": [
    {
     "data": {
      "text/html": [
       "<iframe id=\"igraph\" scrolling=\"no\" style=\"border:none;\" seamless=\"seamless\" src=\"https://plot.ly/~lechnernn/26.embed\" height=\"525px\" width=\"100%\"></iframe>"
      ],
      "text/plain": [
       "<plotly.tools.PlotlyDisplay object>"
      ]
     },
     "execution_count": 275,
     "metadata": {},
     "output_type": "execute_result"
    }
   ],
   "source": [
    "df['actual_percent'] = df.actual.apply(lambda x: np.e ** x)\n",
    "df['forecast_percent'] = df.forecast.apply(lambda x: np.e ** x)\n",
    "two_year_forecast['forecast_percent'] = two_year_forecast.iloc[:,0].apply(lambda x: np.e ** x)[0:12]\n",
    "\n",
    "forecast = go.Scatter(\n",
    "    x = df.index,\n",
    "    y = df.forecast_percent,\n",
    "    name = \"forcecast\"\n",
    ")\n",
    "actual = go.Scatter(\n",
    "    x = df.index,\n",
    "    y = df.actual_percent,\n",
    "    name = \"actual\"\n",
    ")\n",
    "future_forecast = go.Scatter(x = two_year_forecast.index,\n",
    "                            y = np.array(two_year_forecast.iloc[:,1]),\n",
    "                            name = \"future\")\n",
    "\n",
    "\n",
    "data = [forecast, actual, future_forecast]\n",
    "\n",
    "layout = dict(title = 'Fitted ARIMA model (2,1,2)',\n",
    "              xaxis = dict(title = 'Time'),\n",
    "              yaxis = dict(title = 'Juul Market Share %')\n",
    "              )\n",
    "fig = dict(data = data, layout = layout)\n",
    "py.iplot(fig)"
   ]
  },
  {
   "cell_type": "markdown",
   "metadata": {},
   "source": [
    "## RESULTS\n",
    "Based on the provided data and the resultant SARIMA model we created, our answer to our original question is that Juul would receive 10% market cap of all tobacco productucts nationwide in around October - November of 2018."
   ]
  },
  {
   "cell_type": "markdown",
   "metadata": {},
   "source": [
    "## DISCLAIMER"
   ]
  },
  {
   "cell_type": "markdown",
   "metadata": {},
   "source": [
    "ARIMA models by nature only model future values based on what happened in the past. In this case, it would not take into account real world events such as: \n",
    "\n",
    "* a trade war causing Juul to increase their per unit cost, resulting in overall less units sold. \n",
    "* a successful social media campaign leading to a boom in sales\n",
    "* selling into a new market which had previously been untapped\n",
    "* the addition of new product lines -- both from Juul (complimentary goods) and competitors (substitutional ones)\n",
    "* negative press or increased regulation (decreasing sales)\n",
    "\n",
    "Our data is somewhat limited in that we only had 27 time points for market share as a function of time, lowering the quailty of the overall model we could build. It goes without saying that the more datapoints to ingest the better the resultant model. \n",
    "\n",
    "This could have been fixed with any interpolation method (eg linear) to fill in the gaps between dates which we had data for. \n",
    "\n",
    "Lastly, I chose the 10% market share arbitrarily for the purpose of this exercise. "
   ]
  },
  {
   "cell_type": "markdown",
   "metadata": {},
   "source": [
    "## Further Applications with the Provided Data"
   ]
  },
  {
   "cell_type": "markdown",
   "metadata": {},
   "source": [
    "1. Continuing on the time series track:\n",
    "    * model data for market share as a percentage of units sold\n",
    "    * forecast performance of specific geo regions or specific goods\n",
    "2. Unsupervised learning applications:\n",
    "    * use clustering to create profiles for geo regions. are there geo regions where one specific refill kit is more popular? Are there regions where unit sales are high but dollar sales are low?\n",
    "3. Other Business Questions:\n",
    "    * are smokers becoming Juulers? Are cigarette sales declining in areas while Juul's sales are increasing?\n",
    "    * $ Sales / units sold - are goods becoming more or less expensive? "
   ]
  }
 ],
 "metadata": {
  "kernelspec": {
   "display_name": "Python 3",
   "language": "python",
   "name": "python3"
  },
  "language_info": {
   "codemirror_mode": {
    "name": "ipython",
    "version": 3
   },
   "file_extension": ".py",
   "mimetype": "text/x-python",
   "name": "python",
   "nbconvert_exporter": "python",
   "pygments_lexer": "ipython3",
   "version": "3.6.4"
  }
 },
 "nbformat": 4,
 "nbformat_minor": 2
}
